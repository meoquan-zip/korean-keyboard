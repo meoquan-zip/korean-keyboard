{
 "cells": [
  {
   "cell_type": "code",
   "id": "initial_id",
   "metadata": {
    "collapsed": true,
    "ExecuteTime": {
     "end_time": "2025-07-29T03:49:48.040668Z",
     "start_time": "2025-07-29T03:49:48.035361Z"
    }
   },
   "source": [
    "from koreankb._load_data import *\n",
    "\n",
    "I = load_initials()\n",
    "M = load_medials()\n",
    "F = load_finals()\n",
    "\n",
    "def compose(_initial, _medial, _final=None) -> str:\n",
    "    ini = I[_initial]\n",
    "    med = M[_medial]\n",
    "    fin = F[_final]\n",
    "    return chr(0xAC00 + ini * 21 * 28 + med * 28 + fin)"
   ],
   "outputs": [],
   "execution_count": 3
  },
  {
   "metadata": {
    "ExecuteTime": {
     "end_time": "2025-07-29T03:49:49.124928Z",
     "start_time": "2025-07-29T03:49:49.119566Z"
    }
   },
   "cell_type": "code",
   "source": "compose('ㄱ', 'ㅘ', 'ㄼ')",
   "id": "ae1d3e2bb0d92946",
   "outputs": [
    {
     "data": {
      "text/plain": [
       "'괇'"
      ]
     },
     "execution_count": 4,
     "metadata": {},
     "output_type": "execute_result"
    }
   ],
   "execution_count": 4
  },
  {
   "metadata": {
    "ExecuteTime": {
     "end_time": "2025-07-29T03:51:30.378848Z",
     "start_time": "2025-07-29T03:51:30.373320Z"
    }
   },
   "cell_type": "code",
   "source": [
    "arr = []\n",
    "for i in I:\n",
    "    arr.append(compose(i, 'ㅏ'))\n",
    "print('\\n'.join(arr))"
   ],
   "id": "a2902b4a6c99ffc6",
   "outputs": [
    {
     "name": "stdout",
     "output_type": "stream",
     "text": [
      "가\n",
      "까\n",
      "나\n",
      "다\n",
      "따\n",
      "라\n",
      "마\n",
      "바\n",
      "빠\n",
      "사\n",
      "싸\n",
      "아\n",
      "자\n",
      "짜\n",
      "차\n",
      "카\n",
      "타\n",
      "파\n",
      "하\n"
     ]
    }
   ],
   "execution_count": 6
  },
  {
   "metadata": {
    "ExecuteTime": {
     "end_time": "2025-07-29T03:53:31.025335Z",
     "start_time": "2025-07-29T03:53:31.020127Z"
    }
   },
   "cell_type": "code",
   "source": [
    "brr = []\n",
    "for m in M:\n",
    "    brr.append(compose('ㅇ', m))\n",
    "print('\\n'.join(brr))"
   ],
   "id": "b1cecf26f1cade4",
   "outputs": [
    {
     "name": "stdout",
     "output_type": "stream",
     "text": [
      "아\n",
      "애\n",
      "야\n",
      "얘\n",
      "어\n",
      "에\n",
      "여\n",
      "예\n",
      "오\n",
      "와\n",
      "왜\n",
      "외\n",
      "요\n",
      "우\n",
      "워\n",
      "웨\n",
      "위\n",
      "유\n",
      "으\n",
      "의\n",
      "이\n"
     ]
    }
   ],
   "execution_count": 7
  },
  {
   "metadata": {
    "ExecuteTime": {
     "end_time": "2025-07-29T03:56:04.030379Z",
     "start_time": "2025-07-29T03:56:04.024976Z"
    }
   },
   "cell_type": "code",
   "source": [
    "crr = []\n",
    "for f in F:\n",
    "    crr.append(compose('ㄱ', 'ㅏ', f))\n",
    "print('\\n'.join(crr))"
   ],
   "id": "fe1b73f4523447fc",
   "outputs": [
    {
     "name": "stdout",
     "output_type": "stream",
     "text": [
      "가\n",
      "각\n",
      "갂\n",
      "갃\n",
      "간\n",
      "갅\n",
      "갆\n",
      "갇\n",
      "갈\n",
      "갉\n",
      "갊\n",
      "갋\n",
      "갌\n",
      "갍\n",
      "갎\n",
      "갏\n",
      "감\n",
      "갑\n",
      "값\n",
      "갓\n",
      "갔\n",
      "강\n",
      "갖\n",
      "갗\n",
      "갘\n",
      "같\n",
      "갚\n",
      "갛\n"
     ]
    }
   ],
   "execution_count": 8
  },
  {
   "metadata": {
    "ExecuteTime": {
     "end_time": "2025-07-30T05:21:33.288889Z",
     "start_time": "2025-07-30T05:21:33.272900Z"
    }
   },
   "cell_type": "code",
   "source": [
    "from koreankb._load_data import *\n",
    "\n",
    "I_inv = {v: k for k, v in load_initials().items()}\n",
    "M_inv = {v: k for k, v in load_medials().items()}\n",
    "F_inv = {v: k for k, v in load_finals().items()}\n",
    "\n",
    "I_rom = dict(zip(\n",
    "    list('ㄱㄲㄴㄷㄸㄹㅁㅂㅃㅅㅆㅇㅈㅉㅊㅋㅌㅍㅎ'),\n",
    "    'g kk n d tt r m b pp s ss  j jj ch k t p h'.split(' ')\n",
    "))\n",
    "M_rom = dict(zip(\n",
    "    list('ㅏㅐㅑㅒㅓㅔㅕㅖㅗㅘㅙㅚㅛㅜㅝㅞㅟㅠㅡㅢㅣ'),\n",
    "    'a ae ya yae eo e yeo ye o wa wae oe yo u wo we wi yu eu ui i'.split(' ')\n",
    "))\n",
    "F_rom = dict(zip(\n",
    "    [None] + list('ㄱㄲㄳㄴㄵㄶㄷㄹㄺㄻㄼㄽㄾㄿㅀㅁㅂㅄㅅㅆㅇㅈㅊㅋㅌㅍㅎ'),\n",
    "    ' k k k n n n t l k m l l l p l m p p t t ng t t k t p t'.split(' ')\n",
    "))\n",
    "\n",
    "def decompose(c):\n",
    "    assert len(c)==1\n",
    "    code = ord(c) - 0xAC00\n",
    "    if not 0 <= code <= 11171:\n",
    "        return c, '', ''\n",
    "    ini = code // 588\n",
    "    med = code % 588 // 28\n",
    "    fin = code % 588 % 28\n",
    "    return I_rom[I_inv[ini]], M_rom[M_inv[med]], F_rom[F_inv[fin]]"
   ],
   "id": "64f110f455fb8fa4",
   "outputs": [],
   "execution_count": 58
  },
  {
   "metadata": {
    "ExecuteTime": {
     "end_time": "2025-07-30T05:22:16.299523Z",
     "start_time": "2025-07-30T05:22:16.285292Z"
    }
   },
   "cell_type": "code",
   "source": "decompose('쫨')",
   "id": "b5a309662299cb27",
   "outputs": [
    {
     "data": {
      "text/plain": [
       "('jj', 'wa', 'm')"
      ]
     },
     "execution_count": 61,
     "metadata": {},
     "output_type": "execute_result"
    }
   ],
   "execution_count": 61
  },
  {
   "metadata": {
    "ExecuteTime": {
     "end_time": "2025-07-30T05:21:49.730195Z",
     "start_time": "2025-07-30T05:21:49.713215Z"
    }
   },
   "cell_type": "code",
   "source": "len(I_rom), len(M_rom), len(F_rom)",
   "id": "452a50fb71385db2",
   "outputs": [
    {
     "data": {
      "text/plain": [
       "(19, 21, 28)"
      ]
     },
     "execution_count": 60,
     "metadata": {},
     "output_type": "execute_result"
    }
   ],
   "execution_count": 60
  },
  {
   "metadata": {
    "ExecuteTime": {
     "end_time": "2025-07-30T08:24:03.303271Z",
     "start_time": "2025-07-30T08:24:03.288028Z"
    }
   },
   "cell_type": "code",
   "source": "dict([(1,(2,3)), (2,(3,4))])",
   "id": "78e80768309fedb7",
   "outputs": [
    {
     "data": {
      "text/plain": [
       "{1: (2, 3), 2: (3, 4)}"
      ]
     },
     "execution_count": 4,
     "metadata": {},
     "output_type": "execute_result"
    }
   ],
   "execution_count": 4
  },
  {
   "metadata": {},
   "cell_type": "code",
   "outputs": [],
   "execution_count": null,
   "source": "",
   "id": "6975f2d9049ec27b"
  }
 ],
 "metadata": {
  "kernelspec": {
   "display_name": "Python 3",
   "language": "python",
   "name": "python3"
  },
  "language_info": {
   "codemirror_mode": {
    "name": "ipython",
    "version": 2
   },
   "file_extension": ".py",
   "mimetype": "text/x-python",
   "name": "python",
   "nbconvert_exporter": "python",
   "pygments_lexer": "ipython2",
   "version": "2.7.6"
  }
 },
 "nbformat": 4,
 "nbformat_minor": 5
}
