{
 "cells": [
  {
   "metadata": {},
   "cell_type": "markdown",
   "source": "## **letters**",
   "id": "ecab01023126742d"
  },
  {
   "cell_type": "code",
   "id": "initial_id",
   "metadata": {
    "collapsed": true,
    "ExecuteTime": {
     "end_time": "2025-07-11T17:57:46.027132Z",
     "start_time": "2025-07-11T17:57:45.988113Z"
    }
   },
   "source": [
    "import sqlite3\n",
    "\n",
    "rom_letters = 'qwertyuiopasdfghjklzxcvbnm'\n",
    "rom_letters += 'QWERTyuiOPasdfghjklzxcvbnm'.upper()\n",
    "han_letters = 'ㅂㅈㄷㄱㅅㅛㅕㅑㅐㅔㅁㄴㅇㄹㅎㅗㅓㅏㅣㅋㅌㅊㅍㅠㅜㅡ'\n",
    "han_letters += 'ㅃㅉㄸㄲㅆㅛㅕㅑㅒㅖㅁㄴㅇㄹㅎㅗㅓㅏㅣㅋㅌㅊㅍㅠㅜㅡ'\n",
    "han_type = 'cccccvvvvvcccccvvvvccccvvv' * 2\n",
    "\n",
    "con = sqlite3.connect('hangul.db')\n",
    "cur = con.cursor()\n",
    "cur.execute('DROP TABLE IF EXISTS letters')\n",
    "cur.execute(\"\"\"\n",
    "    CREATE TABLE letters\n",
    "    (\n",
    "        key    VARCHAR(1)  NOT NULL PRIMARY KEY,\n",
    "        hangul VARCHAR(1)  NOT NULL,\n",
    "        type   VARCHAR(10) NOT NULL\n",
    "    )\n",
    "\"\"\")\n",
    "for r, h, t in sorted(zip(rom_letters, han_letters, han_type), key=lambda x: (x[1], -ord(x[0]))):\n",
    "    t = 'consonant' if t == 'c' else 'vowel'\n",
    "    cur.execute('INSERT INTO letters (key, hangul, type) VALUES (?, ?, ?)', (r, h, t))\n",
    "con.commit()\n",
    "con.close()"
   ],
   "outputs": [],
   "execution_count": 6
  },
  {
   "metadata": {},
   "cell_type": "markdown",
   "source": "## **merge_table**",
   "id": "91d22e366fb60ba7"
  },
  {
   "metadata": {
    "ExecuteTime": {
     "end_time": "2025-07-12T07:17:43.391642Z",
     "start_time": "2025-07-12T07:17:43.377129Z"
    }
   },
   "cell_type": "code",
   "source": [
    "for i in range(ord('가'), ord('하') + 1, 21 * 28):\n",
    "    print(chr(i), end='')\n",
    "print()\n",
    "for i in range(ord('가'), ord('까'), 28):\n",
    "    print(chr(i), end='')\n",
    "print()\n",
    "for i in range(ord('가'), ord('개')):\n",
    "    print(chr(i), end='')"
   ],
   "id": "8a807ecf8fe2f493",
   "outputs": [
    {
     "name": "stdout",
     "output_type": "stream",
     "text": [
      "가까나다따라마바빠사싸아자짜차카타파하\n",
      "가개갸걔거게겨계고과괘괴교구궈궤귀규그긔기\n",
      "가각갂갃간갅갆갇갈갉갊갋갌갍갎갏감갑값갓갔강갖갗갘같갚갛"
     ]
    }
   ],
   "execution_count": 50
  },
  {
   "metadata": {
    "ExecuteTime": {
     "end_time": "2025-07-12T07:17:45.295684Z",
     "start_time": "2025-07-12T07:17:45.268103Z"
    }
   },
   "cell_type": "code",
   "source": [
    "# ㄱㄲㄴㄷㄸㄹㅁㅂㅃㅅㅆㅇㅈㅉㅊㅋㅌㅍㅎ\n",
    "initials = list('rRseEfaqQtTdwWczxvg')\n",
    "# ㅏㅐㅑㅒㅓㅔㅕㅖㅗㅘㅙㅚㅛㅜㅝㅞㅟㅠㅡㅢㅣ\n",
    "medials = 'k,o,i,O,j,p,u,P,h,hk,ho,hl,y,n,nj,np,nl,b,m,ml,l'.split(',')\n",
    "# _ㄱㄲㄳㄴㄵㄶㄷㄹㄺㄻㄼㄽㄾㄿㅀㅁㅂㅄㅅㅆㅇㅈㅊㅋㅌㅍㅎ\n",
    "finals = ',r,R,rt,s,sw,sg,e,f,fr,fa,fq,ft,fx,fv,fg,a,q,qt,t,T,d,w,c,z,x,v,g'.split(',')\n",
    "\n",
    "keys = []\n",
    "for i in initials:\n",
    "    for m in medials:\n",
    "        for f in finals:\n",
    "            keys.append(i + m + f)\n",
    "\n",
    "hanrom = {chr(i + ord('가')): c for i, c in enumerate(keys)}\n",
    "romhan = {v: k for k, v in hanrom.items()}\n",
    "\n",
    "len(hanrom), len(romhan)"
   ],
   "id": "1f62c6de373848c2",
   "outputs": [
    {
     "data": {
      "text/plain": [
       "(11172, 11172)"
      ]
     },
     "execution_count": 51,
     "metadata": {},
     "output_type": "execute_result"
    }
   ],
   "execution_count": 51
  },
  {
   "metadata": {
    "ExecuteTime": {
     "end_time": "2025-07-12T07:17:47.027510Z",
     "start_time": "2025-07-12T07:17:47.015865Z"
    }
   },
   "cell_type": "code",
   "source": [
    "hr_keymap = {h: r for h, r in zip('ㅂㅈㄷㄱㅅㅛㅕㅑㅐㅔㅁㄴㅇㄹㅎㅗㅓㅏㅣㅋㅌㅊㅍㅠㅜㅡㅃㅉㄸㄲㅆㅒㅖ',\n",
    "                                  'qwertyuiopasdfghjklzxcvbnmQWERTOP')}\n",
    "rh_keymap = {r: h for h, r in hr_keymap.items()}\n",
    "\n",
    "hr_false = {h: r for h, r in zip('ㅘ ㅙ ㅚ ㅝ ㅞ ㅟ ㅢ ㄳ ㄵ ㄶ ㄺ ㄻ ㄼ ㄽ ㄾ ㄿ ㅀ ㅄ'.split(),\n",
    "                                 'hk ho hl nj np nl ml rt sw sg fr fa fq ft fx fv fg qt'.split())}\n",
    "rh_false = {r: h for h, r in hr_false.items()}\n",
    "\n",
    "hanrom.update(hr_false)\n",
    "hanrom.update(hr_keymap)\n",
    "romhan.update(rh_false)\n",
    "romhan.update(rh_keymap)\n",
    "\n",
    "len(hanrom), len(romhan)"
   ],
   "id": "5de5598646c0adac",
   "outputs": [
    {
     "data": {
      "text/plain": [
       "(11223, 11223)"
      ]
     },
     "execution_count": 52,
     "metadata": {},
     "output_type": "execute_result"
    }
   ],
   "execution_count": 52
  },
  {
   "metadata": {
    "ExecuteTime": {
     "end_time": "2025-07-12T07:17:49.054487Z",
     "start_time": "2025-07-12T07:17:49.031132Z"
    }
   },
   "cell_type": "code",
   "source": [
    "addmap = []\n",
    "\n",
    "for han, rom in sorted(hanrom.items()):\n",
    "    if len(rom) == 1:\n",
    "        continue\n",
    "\n",
    "    r1, r2 = rom[:-1], rom[-1]\n",
    "    h1, h2 = romhan.get(r1), romhan.get(r2)\n",
    "    # if h1 is None or h2 is None:\n",
    "    #     print(r1, r2, h1, h2, han, rom)\n",
    "\n",
    "    addmap.append((h1, h2, han))\n",
    "\n",
    "len(addmap)"
   ],
   "id": "e72cb408b75b0df8",
   "outputs": [
    {
     "data": {
      "text/plain": [
       "11190"
      ]
     },
     "execution_count": 53,
     "metadata": {},
     "output_type": "execute_result"
    }
   ],
   "execution_count": 53
  },
  {
   "metadata": {
    "ExecuteTime": {
     "end_time": "2025-07-12T07:19:54.617664Z",
     "start_time": "2025-07-12T07:19:54.568382Z"
    }
   },
   "cell_type": "code",
   "source": [
    "import sqlite3\n",
    "\n",
    "con = sqlite3.connect('hangul.db')\n",
    "cur = con.cursor()\n",
    "cur.execute('DROP TABLE IF EXISTS add_table')\n",
    "cur.execute(\"\"\"\n",
    "    CREATE TABLE merge_table\n",
    "    (\n",
    "        h1     VARCHAR(1) NOT NULL,\n",
    "        h2     VARCHAR(1) NOT NULL,\n",
    "        hangul VARCHAR(1) NOT NULL UNIQUE,\n",
    "        PRIMARY KEY (h1, h2)\n",
    "    )\n",
    "\"\"\")\n",
    "for h1, h2, han in addmap:\n",
    "    cur.execute('INSERT INTO merge_table (h1, h2, hangul) VALUES (?, ?, ?)', (h1, h2, han))\n",
    "con.commit()\n",
    "con.close()"
   ],
   "id": "dc98f7806bdaafc4",
   "outputs": [],
   "execution_count": 54
  }
 ],
 "metadata": {
  "kernelspec": {
   "display_name": "Python 3",
   "language": "python",
   "name": "python3"
  },
  "language_info": {
   "codemirror_mode": {
    "name": "ipython",
    "version": 2
   },
   "file_extension": ".py",
   "mimetype": "text/x-python",
   "name": "python",
   "nbconvert_exporter": "python",
   "pygments_lexer": "ipython2",
   "version": "2.7.6"
  }
 },
 "nbformat": 4,
 "nbformat_minor": 5
}
