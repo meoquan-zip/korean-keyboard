{
 "cells": [
  {
   "cell_type": "code",
   "id": "initial_id",
   "metadata": {
    "collapsed": true,
    "ExecuteTime": {
     "end_time": "2025-08-08T07:22:02.455400Z",
     "start_time": "2025-08-08T07:22:02.415196Z"
    }
   },
   "source": [
    "%load_ext autoreload\n",
    "%autoreload 2\n",
    "from koreankb import Keyboard"
   ],
   "outputs": [],
   "execution_count": 1
  },
  {
   "metadata": {
    "ExecuteTime": {
     "end_time": "2025-08-08T07:22:04.679601Z",
     "start_time": "2025-08-08T07:22:04.648516Z"
    }
   },
   "cell_type": "code",
   "source": [
    "kb = Keyboard()\n",
    "text = 'dlwlrma'\n",
    "\n",
    "for c in text:\n",
    "    kb.input(c)\n",
    "    print(repr(str(kb)))\n",
    "\n",
    "print(repr(kb))"
   ],
   "id": "e002fd93aa25f76b",
   "outputs": [
    {
     "name": "stdout",
     "output_type": "stream",
     "text": [
      "'ㅇ'\n",
      "'이'\n",
      "'잊'\n",
      "'이지'\n",
      "'이직'\n",
      "'이지그'\n",
      "'이지금'\n",
      "Keyboard(_string='이지', _buffer='금')\n"
     ]
    }
   ],
   "execution_count": 2
  },
  {
   "metadata": {
    "ExecuteTime": {
     "end_time": "2025-08-08T07:22:06.583515Z",
     "start_time": "2025-08-08T07:22:06.550848Z"
    }
   },
   "cell_type": "code",
   "source": [
    "kb = Keyboard()\n",
    "text = 'RhdRhd djfdjqnxdms gksrkd dnlfh rhdiddlrk rjfdjekslqslek.'\n",
    "\n",
    "kb.input(text)\n",
    "print(repr(str(kb)))\n",
    "print(repr(kb))"
   ],
   "id": "9ab66e26df072f1d",
   "outputs": [
    {
     "name": "stdout",
     "output_type": "stream",
     "text": [
      "'꽁꽁 얼어붙은 한강 위로 고양이가 걸어다닙니다.'\n",
      "Keyboard(_string='꽁꽁 얼어붙은 한강 위로 고양이가 걸어다닙니다.', _buffer='')\n"
     ]
    }
   ],
   "execution_count": 3
  },
  {
   "metadata": {
    "ExecuteTime": {
     "end_time": "2025-08-08T07:22:07.916270Z",
     "start_time": "2025-08-08T07:22:07.874575Z"
    }
   },
   "cell_type": "code",
   "source": [
    "kb = Keyboard()\n",
    "\n",
    "kb.input('wjdnWmdnl')\n",
    "print(repr(kb))\n",
    "print(repr(str(kb)))\n",
    "\n",
    "for _ in range(5):\n",
    "    kb.backspace()\n",
    "    print(repr(str(kb)))\n",
    "\n",
    "print(repr(kb))"
   ],
   "id": "aa50b211fd988c60",
   "outputs": [
    {
     "name": "stdout",
     "output_type": "stream",
     "text": [
      "Keyboard(_string='저우쯔', _buffer='위')\n",
      "'저우쯔위'\n",
      "'저우쯔우'\n",
      "'저우쯔ㅇ'\n",
      "'저우쯔'\n",
      "'저우'\n",
      "'저'\n",
      "Keyboard(_string='저', _buffer='')\n"
     ]
    }
   ],
   "execution_count": 4
  },
  {
   "metadata": {
    "ExecuteTime": {
     "end_time": "2025-08-08T07:22:10.462300Z",
     "start_time": "2025-08-08T07:22:10.432731Z"
    }
   },
   "cell_type": "code",
   "source": [
    "kb = Keyboard()\n",
    "\n",
    "with open('test_data/Heize_HoldMeBack.txt') as f:\n",
    "    text = f.read().strip()\n",
    "\n",
    "kb.input(text)\n",
    "\n",
    "print(kb)"
   ],
   "id": "6013f9bddf1b51e4",
   "outputs": [
    {
     "name": "stdout",
     "output_type": "stream",
     "text": [
      "비겁해\n",
      "난 또 뒤돌아 너에게 등을져\n",
      "지금도 이렇게 많은 말을 삼킨채\n",
      "단 한발자국 거리만 남긴채\n",
      "\n",
      "대답해\n",
      "나는 뭘 너에게 해주면 될까?\n",
      "무섭게 너에게만을 향해 가는데\n",
      "저 앞에 네가 있는걸 아는데\n",
      "\n",
      "멈춰줘, 제발, 나를 여기서\n",
      "너에게 뛰어가는 날 멈춰줘\n",
      "나는 너를 잊는 법을, 네가 없는 나의 길은\n",
      "모르니? 날 멈춰줘\n",
      "\n",
      "소중해, 네겐 모든걸 다 주고 싶었어\n",
      "미안해, 턱없이 모자란건 알지만\n",
      "내 마음이 널 그리워해\n",
      "아니, 그립다 못해 아파해\n",
      "사소한 실랑이도, 죽을만큼 다툰 일도\n",
      "난 이젠 없으면 안돼\n",
      "\n",
      "멈춰줘, 제발, 나를 여기서\n",
      "너에게 뛰어가는 날 멈춰줘\n",
      "나는 너를 잊는 법을, 네가 없는 나의 길은\n",
      "모르니?\n",
      "\n",
      "네가 없는 그 빈자릴 따라\n",
      "이 순간에도\n",
      "난 너에게 가는 꿈을 꿔\n",
      "난 또, 아\n",
      "\n",
      "나의 모두는 너의것\n",
      "내게 하나 남은건, 너의 이름 기억\n",
      "\n",
      "멈춰줘, 제발, 나를 여기서\n",
      "너에게 뛰어가는 날 멈춰줘\n",
      "나는 너를 잊는 법을, 네가 없는 나의 길은\n",
      "모르니? 날 멈춰줘\n"
     ]
    }
   ],
   "execution_count": 5
  },
  {
   "metadata": {
    "ExecuteTime": {
     "end_time": "2025-08-08T07:25:49.476416Z",
     "start_time": "2025-08-08T07:25:49.448731Z"
    }
   },
   "cell_type": "code",
   "source": [
    "kb = Keyboard()\n",
    "\n",
    "with open('test_data/IU_eight.txt') as f:\n",
    "    text = f.read().strip()\n",
    "\n",
    "for s in text.split('\\\\\\\\'):\n",
    "    kb.toggle_input_mode()\n",
    "    kb.input(s)\n",
    "\n",
    "print(kb)"
   ],
   "id": "ec158a9770ac3e45",
   "outputs": [
    {
     "name": "stdout",
     "output_type": "stream",
     "text": [
      "So are you happy now?\n",
      "Finally happy now, yeah\n",
      "뭐 그대로야, 난\n",
      "다 잃어버린 것 같아\n",
      "\n",
      "모든 게 맘대로 왔다가 인사도 없이 떠나\n",
      "이대로는 무엇도 사랑하고 싶지 않아\n",
      "다 헤질 대로 헤져버린\n",
      "기억 속을 여행해\n",
      "\n",
      "우리는 오렌지 태양 아래\n",
      "그림자 없이 함께 춤을 춰\n",
      "정해진 이별 따위는 없어\n",
      "아름다웠던 그 기억에서 만나\n",
      "\n",
      "Forever young\n",
      "Whoo-woo-woo, whoo-woo-woo-woo\n",
      "Whoo-woo-woo, whoo-woo-woo-woo\n",
      "Forever, we young\n",
      "Whoo-woo-woo, whoo-woo-woo-woo\n",
      "이런 악몽이라면 영영 깨지 않을게\n",
      "\n",
      "섬, 그래 여긴 섬\n",
      "서로가 만든 작은 섬\n",
      "Yeah, umm, forever young\n",
      "영원이란 말은 모래성\n",
      "작별은 마치 재난문자 같지\n",
      "그리움과 같이 맞이하는 아침\n",
      "서로가 이 영겁을 지나\n",
      "꼭 이 섬에서 다시 만나\n",
      "\n",
      "지나듯 날 위로하던 누구의 말대로 고작\n",
      "한 뼘짜리 추억을 잊는 게 참 쉽지 않아\n",
      "시간이 지나도 여전히\n",
      "날 붙드는 그곳에\n",
      "\n",
      "우리는 오렌지 태양 아래\n",
      "그림자 없이 함께 춤을 춰\n",
      "정해진 안녕 따위는 없어\n",
      "아름다웠던 그 기억에서 만나\n",
      "\n",
      "우리는 서로를 베고 누워\n",
      "슬프지 않은 이야기를 나눠\n",
      "우울한 결말 따위는 없어\n",
      "난 영원히 너와 이 기억에서 만나\n",
      "\n",
      "Forever young\n",
      "Whoo-woo-woo, whoo-woo-woo-woo\n",
      "Whoo-woo-woo, whoo-woo-woo-woo\n",
      "Forever, we young\n",
      "Whoo-woo-woo, whoo-woo-woo-woo\n",
      "이런 악몽이라면 영영 깨지 않을게\n"
     ]
    }
   ],
   "execution_count": 8
  },
  {
   "metadata": {
    "ExecuteTime": {
     "end_time": "2025-08-08T07:29:14.067770Z",
     "start_time": "2025-08-08T07:29:14.036948Z"
    }
   },
   "cell_type": "code",
   "source": [
    "kb = Keyboard()\n",
    "\n",
    "with open('test_data/NewJeans_BubbleGum.txt') as f:\n",
    "    text = f.read().strip()\n",
    "\n",
    "for s in text.split('\\\\\\\\'):\n",
    "    kb.toggle_input_mode()\n",
    "    kb.input(s)\n",
    "\n",
    "print(kb)"
   ],
   "id": "8be763d6a619f38e",
   "outputs": [
    {
     "name": "stdout",
     "output_type": "stream",
     "text": [
      "You just get my heart pump, pumping\n",
      "Every time that you're here around me\n",
      "노랫 소리가 또 흘러나와, yeah\n",
      "오늘 오래 걸린 이유\n",
      "I'm always so excited to meet you\n",
      "내 향기가 널 먼저 찾아가, yeah\n",
      "\n",
      "눈 감아도 기억나게, 어디라도 따라갈래\n",
      "You're so delicate, 거품 속에 숨었네, uh-uh-uh-uh-uh\n",
      "Oh, you make my heart melt away, you're a softie, 구름 같아\n",
      "이건 말로 설명 못해, you got me, oh-oh-oh-oh-oh\n",
      "이미 우린 저기 멀리 높이 있는 풍선같이\n",
      "Have you right here in a basket\n",
      "\n",
      "Oh, my baby, sweet like bubble gum\n",
      "Bouncin' like playin' ball\n",
      "더 높이 올려줘\n",
      "We're gonna fly away\n",
      "Sweet like bubble, yum\n",
      "So smooth, soft like a hug\n",
      "더 멀리 날려줘\n",
      "Let's go far away\n",
      "\n",
      "You're my favorite flavor, bubble gum\n",
      "Bubble, bubble, bubble, bubble, bubble, bubble\n",
      "Bubble, bubble, bubble gum\n",
      "\n",
      "얘기 늘어놓아 줄줄\n",
      "Like I got nothing better to do\n",
      "내 손바닥 안에 쏙 들어와, yeah\n",
      "나만 알고 싶은 비밀\n",
      "All I know is I need this feeling\n",
      "내 윤기가 널 먼저 사로잡아, yeah\n",
      "\n",
      "눈 감아도 기억나게, 어디라도 따라갈래\n",
      "You're so delicate, 거품 속에 숨었네, uh-uh-uh-uh-uh\n",
      "Oh, you make my heart melt away, you're a softie, 구름 같아\n",
      "이건 말로 설명 못해, you got me, oh-oh-oh-oh-oh\n",
      "\n",
      "Sweet like bubble gum\n",
      "Bouncin' like playin' ball\n",
      "더 높이 올려줘\n",
      "We're gonna fly away\n",
      "Sweet like bubble, yum\n",
      "So smooth, soft like a hug\n",
      "더 멀리 날려줘\n",
      "Let's go far away\n",
      "\n",
      "눈 감아도 기억나게, 어디라도 따라갈래\n",
      "You're so delicate, 거품 속에 숨었네, uh-uh-uh-uh-uh\n",
      "Oh, you make my heart melt away, you're a softie, 구름 같아\n",
      "이건 말로 설명 못해, you got me, oh-oh-oh-oh-oh\n",
      "\n",
      "이미 우린 저기 멀리 높이 있는 풍선같이\n",
      "Have you right here in a basket\n",
      "Oh, my baby, sweet like bubble gum\n",
      "이미 우린 저기 멀리 높이 있는 풍선같이\n",
      "Have you right here in a basket\n",
      "Oh, my baby, sweet like bubble gum\n"
     ]
    }
   ],
   "execution_count": 9
  }
 ],
 "metadata": {
  "kernelspec": {
   "display_name": "Python 3",
   "language": "python",
   "name": "python3"
  },
  "language_info": {
   "codemirror_mode": {
    "name": "ipython",
    "version": 2
   },
   "file_extension": ".py",
   "mimetype": "text/x-python",
   "name": "python",
   "nbconvert_exporter": "python",
   "pygments_lexer": "ipython2",
   "version": "2.7.6"
  }
 },
 "nbformat": 4,
 "nbformat_minor": 5
}
