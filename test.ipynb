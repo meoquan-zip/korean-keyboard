{
 "cells": [
  {
   "cell_type": "code",
   "id": "initial_id",
   "metadata": {
    "collapsed": true,
    "ExecuteTime": {
     "end_time": "2025-07-15T04:39:10.465027Z",
     "start_time": "2025-07-15T04:39:10.432584Z"
    }
   },
   "source": [
    "%load_ext autoreload\n",
    "%autoreload 2\n",
    "from krkb import KoreanKeyboard"
   ],
   "outputs": [],
   "execution_count": 1
  },
  {
   "metadata": {
    "ExecuteTime": {
     "end_time": "2025-07-15T04:39:12.375709Z",
     "start_time": "2025-07-15T04:39:12.326802Z"
    }
   },
   "cell_type": "code",
   "source": [
    "kb = KoreanKeyboard()\n",
    "text = 'dlwlrma'\n",
    "\n",
    "for c in text:\n",
    "    kb.input(c)\n",
    "    print(f'{kb.__str__()!r}')"
   ],
   "id": "d0ab802edb33f0c3",
   "outputs": [
    {
     "name": "stdout",
     "output_type": "stream",
     "text": [
      "'ㅇ'\n",
      "'이'\n",
      "'잊'\n",
      "'이지'\n",
      "'이직'\n",
      "'이지그'\n",
      "'이지금'\n"
     ]
    }
   ],
   "execution_count": 2
  },
  {
   "metadata": {
    "ExecuteTime": {
     "end_time": "2025-07-15T04:39:14.928681Z",
     "start_time": "2025-07-15T04:39:14.869322Z"
    }
   },
   "cell_type": "code",
   "source": [
    "kb = KoreanKeyboard()\n",
    "text = 'RhdRhd djfdjqnxdms gksrkd dnlfh rhdiddlrk rjfdjekslqslek.'\n",
    "\n",
    "kb.input(text)\n",
    "print(f'{kb.__str__()!r}')"
   ],
   "id": "e49fe77a843d28cb",
   "outputs": [
    {
     "name": "stdout",
     "output_type": "stream",
     "text": [
      "'꽁꽁 얼어붙은 한강 위로 고양이가 걸어다닙니다.'\n"
     ]
    }
   ],
   "execution_count": 3
  },
  {
   "metadata": {
    "ExecuteTime": {
     "end_time": "2025-07-15T04:39:16.281620Z",
     "start_time": "2025-07-15T04:39:16.237105Z"
    }
   },
   "cell_type": "code",
   "source": [
    "kb = KoreanKeyboard()\n",
    "\n",
    "kb.input('wjdnWmdnl')\n",
    "print(f'{kb.__str__()!r}')\n",
    "\n",
    "for _ in range(5):\n",
    "    kb.backspace()\n",
    "    print(f'{kb.__str__()!r}')"
   ],
   "id": "ff547ebcc7e92dd1",
   "outputs": [
    {
     "name": "stdout",
     "output_type": "stream",
     "text": [
      "'저우쯔위'\n",
      "'저우쯔우'\n",
      "'저우쯔ㅇ'\n",
      "'저우쯔'\n",
      "'저우'\n",
      "'저'\n"
     ]
    }
   ],
   "execution_count": 4
  }
 ],
 "metadata": {
  "kernelspec": {
   "display_name": "Python 3",
   "language": "python",
   "name": "python3"
  },
  "language_info": {
   "codemirror_mode": {
    "name": "ipython",
    "version": 2
   },
   "file_extension": ".py",
   "mimetype": "text/x-python",
   "name": "python",
   "nbconvert_exporter": "python",
   "pygments_lexer": "ipython2",
   "version": "2.7.6"
  }
 },
 "nbformat": 4,
 "nbformat_minor": 5
}
