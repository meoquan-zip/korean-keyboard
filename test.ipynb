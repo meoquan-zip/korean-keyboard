{
 "cells": [
  {
   "cell_type": "code",
   "id": "initial_id",
   "metadata": {
    "collapsed": true,
    "ExecuteTime": {
     "end_time": "2025-07-12T08:18:13.335546Z",
     "start_time": "2025-07-12T08:18:13.321520Z"
    }
   },
   "source": "from korean_keyboard import KoreanKeyboard",
   "outputs": [],
   "execution_count": 87
  },
  {
   "metadata": {
    "ExecuteTime": {
     "end_time": "2025-07-12T08:25:46.614495Z",
     "start_time": "2025-07-12T08:25:46.587155Z"
    }
   },
   "cell_type": "code",
   "source": [
    "kb = KoreanKeyboard()\n",
    "text = 'dlwlrma'\n",
    "\n",
    "for c in text:\n",
    "    kb.input(c)\n",
    "    print(kb)"
   ],
   "id": "d0ab802edb33f0c3",
   "outputs": [
    {
     "name": "stdout",
     "output_type": "stream",
     "text": [
      "ㅇ\n",
      "이\n",
      "잊\n",
      "이지\n",
      "이직\n",
      "이지그\n",
      "이지금\n"
     ]
    }
   ],
   "execution_count": 101
  }
 ],
 "metadata": {
  "kernelspec": {
   "display_name": "Python 3",
   "language": "python",
   "name": "python3"
  },
  "language_info": {
   "codemirror_mode": {
    "name": "ipython",
    "version": 2
   },
   "file_extension": ".py",
   "mimetype": "text/x-python",
   "name": "python",
   "nbconvert_exporter": "python",
   "pygments_lexer": "ipython2",
   "version": "2.7.6"
  }
 },
 "nbformat": 4,
 "nbformat_minor": 5
}
