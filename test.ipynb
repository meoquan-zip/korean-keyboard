{
 "cells": [
  {
   "cell_type": "code",
   "id": "initial_id",
   "metadata": {
    "collapsed": true,
    "ExecuteTime": {
     "end_time": "2025-07-16T10:33:53.941862Z",
     "start_time": "2025-07-16T10:33:53.903384Z"
    }
   },
   "source": [
    "%load_ext autoreload\n",
    "%autoreload 2\n",
    "from krkb import KoreanKeyboard"
   ],
   "outputs": [
    {
     "name": "stdout",
     "output_type": "stream",
     "text": [
      "The autoreload extension is already loaded. To reload it, use:\n",
      "  %reload_ext autoreload\n"
     ]
    }
   ],
   "execution_count": 6
  },
  {
   "metadata": {
    "ExecuteTime": {
     "end_time": "2025-07-16T10:33:54.137388Z",
     "start_time": "2025-07-16T10:33:53.954526Z"
    }
   },
   "cell_type": "code",
   "source": [
    "kb = KoreanKeyboard()\n",
    "text = 'dlwlrma'\n",
    "\n",
    "for c in text:\n",
    "    kb.input(c)\n",
    "    print(f'{kb.__str__()!r}')"
   ],
   "id": "d0ab802edb33f0c3",
   "outputs": [
    {
     "name": "stdout",
     "output_type": "stream",
     "text": [
      "'ㅇ'\n",
      "'이'\n",
      "'잊'\n",
      "'이지'\n",
      "'이직'\n",
      "'이지그'\n",
      "'이지금'\n"
     ]
    }
   ],
   "execution_count": 7
  },
  {
   "metadata": {
    "ExecuteTime": {
     "end_time": "2025-07-16T10:33:54.189780Z",
     "start_time": "2025-07-16T10:33:54.145146Z"
    }
   },
   "cell_type": "code",
   "source": [
    "kb = KoreanKeyboard()\n",
    "text = 'RhdRhd djfdjqnxdms gksrkd dnlfh rhdiddlrk rjfdjekslqslek.'\n",
    "\n",
    "kb.input(text)\n",
    "print(f'{kb.__str__()!r}')"
   ],
   "id": "e49fe77a843d28cb",
   "outputs": [
    {
     "name": "stdout",
     "output_type": "stream",
     "text": [
      "'꽁꽁 얼어붙은 한강 위로 고양이가 걸어다닙니다.'\n"
     ]
    }
   ],
   "execution_count": 8
  },
  {
   "metadata": {
    "ExecuteTime": {
     "end_time": "2025-07-16T10:33:54.242342Z",
     "start_time": "2025-07-16T10:33:54.205475Z"
    }
   },
   "cell_type": "code",
   "source": [
    "kb = KoreanKeyboard()\n",
    "\n",
    "kb.input('wjdnWmdnl')\n",
    "print(f'{kb.__str__()!r}')\n",
    "\n",
    "for _ in range(5):\n",
    "    kb.backspace()\n",
    "    print(f'{kb.__str__()!r}')"
   ],
   "id": "ff547ebcc7e92dd1",
   "outputs": [
    {
     "name": "stdout",
     "output_type": "stream",
     "text": [
      "'저우쯔위'\n",
      "'저우쯔우'\n",
      "'저우쯔ㅇ'\n",
      "'저우쯔'\n",
      "'저우'\n",
      "'저'\n"
     ]
    }
   ],
   "execution_count": 9
  },
  {
   "metadata": {
    "ExecuteTime": {
     "end_time": "2025-07-16T10:47:33.679744Z",
     "start_time": "2025-07-16T10:47:33.632425Z"
    }
   },
   "cell_type": "code",
   "source": [
    "kb = KoreanKeyboard()\n",
    "text = '''\n",
    "qlrjqgo\n",
    "sks Eh enlehfdk sjdprp emddmfwu\n",
    "wlrmaeh dlfjgrp aksgdms akfdmf tkazlsco\n",
    "eks gksqkfwkrnr rjflaks skarlsco\n",
    "\n",
    "eoekqgo\n",
    "sksms anjf sjdprp gownaus ehlfRk?\n",
    "antjqrp sjdprpaksdmf gidgo rksmsep\n",
    "wj dkvdp sprk dlTsmsrjf dksmsep\n",
    "\n",
    "ajacnjwnj, wpqkf, skfmf durltj\n",
    "sjdprp Enldjrksms skf ajacnjwnj\n",
    "sksms sjfmf dlwsms qjqdmf, sprk djqtsms skdml rlfdms\n",
    "ahfmsl? skf ajacnjwnj\n",
    "\n",
    "thwndgo, sprps ahemsrjf ek wnrh tlvdjTdj\n",
    "aldksgo, xjrdjqtdl ahwkfksrjs dkfwlaks\n",
    "so akdmadl sjf rmfldnjgo\n",
    "dksl, rmflqek ahtgo dkvkgo\n",
    "tkthgks tlffkddleh, wnrdmfakszma ekxns dlfeh\n",
    "sks dlwps djqtdmaus dkseho\n",
    "\n",
    "ajacnjwnj, wpqkf, skfmf durltj\n",
    "sjdprp Enldjrksms skf ajacnjwnj\n",
    "sksms sjfmf dlwsms qjqdmf, sprk djqtsms skdml rlfdms\n",
    "ahfmsl?\n",
    "\n",
    "sprk djqtsms rm qlswkfmf Ekfk\n",
    "dl tnsrksdpeh\n",
    "sks sjdprp rksms Rnadmf Rnj\n",
    "sks Eh, dk\n",
    "\n",
    "skdml ahensms sjdmlrjt\n",
    "sorp gksk skadmsrjs, sjdml dlfma rldjr\n",
    "\n",
    "ajacnjwnj, wpqkf, skfmf durltj\n",
    "sjdprp Enldjrksms skf ajacnjwnj\n",
    "sksms sjfmf dlwsms qjqdmf, sprk djqtsms skdml rlfdms\n",
    "ahfmsl? skf ajacnjwnj\n",
    "'''.strip()\n",
    "\n",
    "kb.input(text)\n",
    "print(kb)"
   ],
   "id": "15b743913ab40f01",
   "outputs": [
    {
     "name": "stdout",
     "output_type": "stream",
     "text": [
      "비겁해\n",
      "난 또 뒤돌아 너에게 등을져\n",
      "지금도 이렇게 많은 말을 삼킨채\n",
      "단 한발자국 거리만 남긴채\n",
      "\n",
      "대답해\n",
      "나는 뭘 너에게 해주면 될까?\n",
      "무섭게 너에게만을 향해 가는데\n",
      "저 앞에 네가 있는걸 아는데\n",
      "\n",
      "멈춰줘, 제발, 나를 여기서\n",
      "너에게 뛰어가는 날 멈춰줘\n",
      "나는 너를 잊는 법을, 네가 없는 나의 길은\n",
      "모르니? 날 멈춰줘\n",
      "\n",
      "소중해, 네겐 모든걸 다 주고 싶었어\n",
      "미안해, 턱없이 모자란건 알지만\n",
      "내 마음이 널 그리워해\n",
      "아니, 그립다 못해 아파해\n",
      "사소한 실랑이도, 죽을만큼 다툰 일도\n",
      "난 이젠 없으면 안돼\n",
      "\n",
      "멈춰줘, 제발, 나를 여기서\n",
      "너에게 뛰어가는 날 멈춰줘\n",
      "나는 너를 잊는 법을, 네가 없는 나의 길은\n",
      "모르니?\n",
      "\n",
      "네가 없는 그 빈자를 따라\n",
      "이 순간에도\n",
      "난 너에게 가는 꿈을 꿔\n",
      "난 또, 아\n",
      "\n",
      "나의 모두는 너의것\n",
      "내게 하나 남은건, 너의 이름 기억\n",
      "\n",
      "멈춰줘, 제발, 나를 여기서\n",
      "너에게 뛰어가는 날 멈춰줘\n",
      "나는 너를 잊는 법을, 네가 없는 나의 길은\n",
      "모르니? 날 멈춰줘\n"
     ]
    }
   ],
   "execution_count": 19
  }
 ],
 "metadata": {
  "kernelspec": {
   "display_name": "Python 3",
   "language": "python",
   "name": "python3"
  },
  "language_info": {
   "codemirror_mode": {
    "name": "ipython",
    "version": 2
   },
   "file_extension": ".py",
   "mimetype": "text/x-python",
   "name": "python",
   "nbconvert_exporter": "python",
   "pygments_lexer": "ipython2",
   "version": "2.7.6"
  }
 },
 "nbformat": 4,
 "nbformat_minor": 5
}
