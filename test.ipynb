{
 "cells": [
  {
   "cell_type": "code",
   "id": "initial_id",
   "metadata": {
    "collapsed": true,
    "ExecuteTime": {
     "end_time": "2025-07-17T16:11:45.171440Z",
     "start_time": "2025-07-17T16:11:45.130706Z"
    }
   },
   "source": [
    "%load_ext autoreload\n",
    "%autoreload 2\n",
    "from krkb import Keyboard"
   ],
   "outputs": [],
   "execution_count": 1
  },
  {
   "metadata": {
    "ExecuteTime": {
     "end_time": "2025-07-17T16:11:45.201895Z",
     "start_time": "2025-07-17T16:11:45.175449Z"
    }
   },
   "cell_type": "code",
   "source": [
    "kb = Keyboard()\n",
    "text = 'dlwlrma'\n",
    "\n",
    "for c in text:\n",
    "    kb.input(c)\n",
    "    print(repr(str(kb)))\n",
    "\n",
    "print(repr(kb))"
   ],
   "id": "e002fd93aa25f76b",
   "outputs": [
    {
     "name": "stdout",
     "output_type": "stream",
     "text": [
      "'ㅇ'\n",
      "'이'\n",
      "'잊'\n",
      "'이지'\n",
      "'이직'\n",
      "'이지그'\n",
      "'이지금'\n",
      "Keyboard(_string='이지', _buffer='금')\n"
     ]
    }
   ],
   "execution_count": 2
  },
  {
   "metadata": {
    "ExecuteTime": {
     "end_time": "2025-07-17T16:11:45.402372Z",
     "start_time": "2025-07-17T16:11:45.373993Z"
    }
   },
   "cell_type": "code",
   "source": [
    "kb = Keyboard()\n",
    "text = 'RhdRhd djfdjqnxdms gksrkd dnlfh rhdiddlrk rjfdjekslqslek.'\n",
    "\n",
    "kb.input(text)\n",
    "print(repr(str(kb)))\n",
    "print(repr(kb))"
   ],
   "id": "9ab66e26df072f1d",
   "outputs": [
    {
     "name": "stdout",
     "output_type": "stream",
     "text": [
      "'꽁꽁 얼어붙은 한강 위로 고양이가 걸어다닙니다.'\n",
      "Keyboard(_string='꽁꽁 얼어붙은 한강 위로 고양이가 걸어다닙니다.', _buffer='')\n"
     ]
    }
   ],
   "execution_count": 3
  },
  {
   "metadata": {
    "ExecuteTime": {
     "end_time": "2025-07-17T16:11:45.451349Z",
     "start_time": "2025-07-17T16:11:45.419342Z"
    }
   },
   "cell_type": "code",
   "source": [
    "kb = Keyboard()\n",
    "\n",
    "kb.input('wjdnWmdnl')\n",
    "print(repr(kb))\n",
    "print(repr(str(kb)))\n",
    "\n",
    "for _ in range(5):\n",
    "    kb.backspace()\n",
    "    print(repr(str(kb)))\n",
    "\n",
    "print(repr(kb))"
   ],
   "id": "aa50b211fd988c60",
   "outputs": [
    {
     "name": "stdout",
     "output_type": "stream",
     "text": [
      "Keyboard(_string='저우쯔', _buffer='위')\n",
      "'저우쯔위'\n",
      "'저우쯔우'\n",
      "'저우쯔ㅇ'\n",
      "'저우쯔'\n",
      "'저우'\n",
      "'저'\n",
      "Keyboard(_string='저', _buffer='')\n"
     ]
    }
   ],
   "execution_count": 4
  },
  {
   "metadata": {
    "ExecuteTime": {
     "end_time": "2025-07-17T16:13:22.871135Z",
     "start_time": "2025-07-17T16:13:22.829349Z"
    }
   },
   "cell_type": "code",
   "source": [
    "kb = Keyboard()\n",
    "\n",
    "with open('test_data/Heize_HoldMeBack.txt') as f:\n",
    "    text = f.read().strip()\n",
    "\n",
    "kb.input(text)\n",
    "\n",
    "for line in str(kb).split('\\n\\n'):\n",
    "    print(repr(line.replace('\\n', '... ') + '...'))"
   ],
   "id": "6013f9bddf1b51e4",
   "outputs": [
    {
     "name": "stdout",
     "output_type": "stream",
     "text": [
      "'비겁해... 난 또 뒤돌아 너에게 등을져... 지금도 이렇게 많은 말을 삼킨채... 단 한발자국 거리만 남긴채...'\n",
      "'대답해... 나는 뭘 너에게 해주면 될까?... 무섭게 너에게만을 향해 가는데... 저 앞에 네가 있는걸 아는데...'\n",
      "'멈춰줘, 제발, 나를 여기서... 너에게 뛰어가는 날 멈춰줘... 나는 너를 잊는 법을, 네가 없는 나의 길은... 모르니? 날 멈춰줘...'\n",
      "'소중해, 네겐 모든걸 다 주고 싶었어... 미안해, 턱없이 모자란건 알지만... 내 마음이 널 그리워해... 아니, 그립다 못해 아파해... 사소한 실랑이도, 죽을만큼 다툰 일도... 난 이젠 없으면 안돼...'\n",
      "'멈춰줘, 제발, 나를 여기서... 너에게 뛰어가는 날 멈춰줘... 나는 너를 잊는 법을, 네가 없는 나의 길은... 모르니?...'\n",
      "'네가 없는 그 빈자릴 따라... 이 순간에도... 난 너에게 가는 꿈을 꿔... 난 또, 아...'\n",
      "'나의 모두는 너의것... 내게 하나 남은건, 너의 이름 기억...'\n",
      "'멈춰줘, 제발, 나를 여기서... 너에게 뛰어가는 날 멈춰줘... 나는 너를 잊는 법을, 네가 없는 나의 길은... 모르니? 날 멈춰줘...'\n"
     ]
    }
   ],
   "execution_count": 7
  }
 ],
 "metadata": {
  "kernelspec": {
   "display_name": "Python 3",
   "language": "python",
   "name": "python3"
  },
  "language_info": {
   "codemirror_mode": {
    "name": "ipython",
    "version": 2
   },
   "file_extension": ".py",
   "mimetype": "text/x-python",
   "name": "python",
   "nbconvert_exporter": "python",
   "pygments_lexer": "ipython2",
   "version": "2.7.6"
  }
 },
 "nbformat": 4,
 "nbformat_minor": 5
}
